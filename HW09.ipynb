{
  "nbformat": 4,
  "nbformat_minor": 0,
  "metadata": {
    "colab": {
      "provenance": [],
      "authorship_tag": "ABX9TyNpBelHBoWpqpNMugpw3UJQ"
    },
    "kernelspec": {
      "name": "python3",
      "display_name": "Python 3"
    },
    "language_info": {
      "name": "python"
    }
  },
  "cells": [
    {
      "cell_type": "markdown",
      "source": [
        "[Документація на лінпрог](https://docs.scipy.org/doc/scipy/reference/generated/scipy.optimize.linprog.html)"
      ],
      "metadata": {
        "id": "dz6Thg8rfTMf"
      }
    },
    {
      "cell_type": "markdown",
      "source": [
        "# ***Завдання***"
      ],
      "metadata": {
        "id": "Sen1Orq1TElj"
      }
    },
    {
      "cell_type": "code",
      "source": [
        "from scipy.optimize import linprog"
      ],
      "metadata": {
        "id": "EnAF_VFJbhcs"
      },
      "execution_count": null,
      "outputs": []
    },
    {
      "cell_type": "markdown",
      "source": [
        ">  c = Коефіцієнти цільової функції (мінімізуємо -Z для максимізації Z)\n",
        "\n",
        "\n",
        "> A = Матриця коефіцієнтів обмежень\n",
        "\n",
        "> b = Праві частини обмежень\n",
        "\n",
        "> x_bounds = Межі змінних\n",
        "\n",
        "> solution = Розв'язок"
      ],
      "metadata": {
        "id": "mbNssBTrpOcG"
      }
    },
    {
      "cell_type": "code",
      "source": [
        "c = [-2, -9, -6]\n",
        "\n",
        "A = [\n",
        "    [12, 6, 2],\n",
        "    [12, 24, 18],\n",
        "    [12, 18, 12]]\n",
        "\n",
        "b = [320, 192, 180]\n",
        "\n",
        "x_bounds = [(0, None), (0, None), (0, None)]\n",
        "\n",
        "solution = linprog(c, A_ub=A, b_ub=b, bounds=x_bounds)\n",
        "\n",
        "print('Оптимальний розподіл послуг: 0 разів сайти, 8 разів магазини, 0 разів інтеграція')\n",
        "print(solution.x)\n",
        "print('сумарний місячний дохід компанії при оптимальному розподілі функцій')\n",
        "print(-solution.fun)\n",
        "print('Висновок')\n",
        "print('Створення Інтернет магазинів найприбутковіше, і компанія має зосередитися на цьому')"
      ],
      "metadata": {
        "colab": {
          "base_uri": "https://localhost:8080/"
        },
        "id": "AluoTWS5bv5W",
        "outputId": "e5f47e84-2c59-4f34-f545-b45d3ca9c3ca"
      },
      "execution_count": null,
      "outputs": [
        {
          "output_type": "stream",
          "name": "stdout",
          "text": [
            "Оптимальний розподіл послуг: 0 разів сайти, 8 разів магазини, 0 разів інтеграція\n",
            "[0. 8. 0.]\n",
            "сумарний місячний дохід компанії при оптимальному розподілі функцій\n",
            "72.0\n",
            "Висновок\n",
            "Створення Інтернет магазинів найприбутковіше, і компанія має зосередитися на цьому\n"
          ]
        }
      ]
    }
  ]
}