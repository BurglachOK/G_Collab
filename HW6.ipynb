{
  "nbformat": 4,
  "nbformat_minor": 0,
  "metadata": {
    "colab": {
      "provenance": [],
      "collapsed_sections": [
        "mWr76zGSjnKC",
        "pEOfr-SljFSV",
        "wtoC1zATjMKF",
        "7-8t5AaUjPlG",
        "C1WZyev1jRbG",
        "t-_0Y3rOytqs"
      ],
      "authorship_tag": "ABX9TyPXTk0qyBnEBJefxitQVPV7"
    },
    "kernelspec": {
      "name": "python3",
      "display_name": "Python 3"
    },
    "language_info": {
      "name": "python"
    }
  },
  "cells": [
    {
      "cell_type": "markdown",
      "source": [
        "# ***Imports***"
      ],
      "metadata": {
        "id": "mWr76zGSjnKC"
      }
    },
    {
      "cell_type": "code",
      "source": [
        "from sympy import diff, sqrt, pi, exp, integrate, Symbol, Eq, plot_implicit\n",
        "from sympy.abc import x,y\n",
        "from sympy.plotting import plot\n",
        "import seaborn as sns\n",
        "from scipy import integrate as integrate_scipy\n",
        "from sympy import Rational\n",
        "sns.set()"
      ],
      "metadata": {
        "id": "fFG5Vf7fjpOS"
      },
      "execution_count": 105,
      "outputs": []
    },
    {
      "cell_type": "markdown",
      "source": [
        "# ***Завдання 1***"
      ],
      "metadata": {
        "id": "pEOfr-SljFSV"
      }
    },
    {
      "cell_type": "code",
      "source": [
        "func = 2*(((4/(1.2*sqrt(2*pi)))*exp((-1/2)*((x-11)/1.2)**2))+(7/(2.4*sqrt(2*pi)))*exp(-1/2*((x-15)/2.4)**2))"
      ],
      "metadata": {
        "id": "w806PRbto1LV"
      },
      "execution_count": 15,
      "outputs": []
    },
    {
      "cell_type": "code",
      "execution_count": 117,
      "metadata": {
        "id": "C09mvH8diOk-",
        "colab": {
          "base_uri": "https://localhost:8080/",
          "height": 480
        },
        "outputId": "666ef81b-90f5-43e0-e7cc-85101871cc59"
      },
      "outputs": [
        {
          "output_type": "display_data",
          "data": {
            "text/plain": [
              "<Figure size 640x480 with 1 Axes>"
            ],
            "image/png": "[encoded data removed]"
          },
          "metadata": {}
        }
      ],
      "source": [
        "p1 = plot(func, (x, 0, 24), show=False)\n",
        "a = plot_implicit(Eq(x, 9), (x, 0, 24), show=False, line_color=\"red\")\n",
        "b = plot_implicit(Eq(x, 18), (x, 0, 24), show=False, line_color=\"red\")\n",
        "\n",
        "sns.set_style(\"whitegrid\", {'grid.linestyle': '--'})\n",
        "p1.extend(a)\n",
        "p1.extend(b)\n",
        "p1.show()"
      ]
    },
    {
      "cell_type": "code",
      "source": [
        "indefinite_integral = integrate(func, x)\n",
        "indefinite_integral"
      ],
      "metadata": {
        "colab": {
          "base_uri": "https://localhost:8080/",
          "height": 40
        },
        "id": "i-VOv3_korY7",
        "outputId": "e1b90b3c-c177-4969-f4bf-934a3d98aad3"
      },
      "execution_count": 19,
      "outputs": [
        {
          "output_type": "execute_result",
          "data": {
            "text/plain": [
              "4.94974746830583*sqrt(2)*erf(0.294627825494395*x - 4.41941738241592) + 2.82842712474619*sqrt(2)*erf(0.58925565098879*x - 6.48181216087669)"
            ],
            "text/latex": "$\\displaystyle 4.94974746830583 \\sqrt{2} \\operatorname{erf}{\\left(0.294627825494395 x - 4.41941738241592 \\right)} + 2.82842712474619 \\sqrt{2} \\operatorname{erf}{\\left(0.58925565098879 x - 6.48181216087669 \\right)}$"
          },
          "metadata": {},
          "execution_count": 19
        }
      ]
    },
    {
      "cell_type": "code",
      "source": [
        "definite_integral = integrate(func, (x, 9, 18))\n",
        "definite_integral"
      ],
      "metadata": {
        "colab": {
          "base_uri": "https://localhost:8080/",
          "height": 38
        },
        "id": "prMRH5zxpdME",
        "outputId": "bbbdb957-0228-4f6f-b657-1add2b1fcd51"
      },
      "execution_count": 20,
      "outputs": [
        {
          "output_type": "execute_result",
          "data": {
            "text/plain": [
              "14.178654163478*sqrt(2)"
            ],
            "text/latex": "$\\displaystyle 14.178654163478 \\sqrt{2}$"
          },
          "metadata": {},
          "execution_count": 20
        }
      ]
    },
    {
      "cell_type": "markdown",
      "source": [
        "# ***Завдання 2***"
      ],
      "metadata": {
        "id": "wtoC1zATjMKF"
      }
    },
    {
      "cell_type": "code",
      "source": [
        "def rectangle_integration(f, a, b, n):\n",
        "# f: функція (lambda)\n",
        "# a, b: межі інтегрування\n",
        "# n: кількість прямокутників (кроків)\n",
        "    h = (b - a) / n\n",
        "    result_rec = 0\n",
        "    for i in range(n):\n",
        "        x_i = a + i * h\n",
        "        result_rec += f(x_i)\n",
        "    return result_rec * h\n",
        "\n",
        "\n",
        "f = lambda x: 2*(((4/(1.2*sqrt(2*pi)))*exp((-1/2)*((x-11)/1.2)**2))+(7/(2.4*sqrt(2*pi)))*exp(-1/2*((x-15)/2.4)**2))\n",
        "a = 9\n",
        "b = 18\n",
        "n = 10000\n",
        "\n",
        "approx_rec = rectangle_integration(f, a, b, n)\n",
        "approx_rec"
      ],
      "metadata": {
        "id": "Xw-31IftjThv",
        "colab": {
          "base_uri": "https://localhost:8080/",
          "height": 60
        },
        "outputId": "0003c8a1-07ed-4d4d-9269-79ecafb1ebff"
      },
      "execution_count": 113,
      "outputs": [
        {
          "output_type": "execute_result",
          "data": {
            "text/plain": [
              "25.130840828025*sqrt(2)/sqrt(pi)"
            ],
            "text/latex": "$\\displaystyle \\frac{25.130840828025 \\sqrt{2}}{\\sqrt{\\pi}}$"
          },
          "metadata": {},
          "execution_count": 113
        }
      ]
    },
    {
      "cell_type": "markdown",
      "source": [
        "# ***Завдання 3***"
      ],
      "metadata": {
        "id": "7-8t5AaUjPlG"
      }
    },
    {
      "cell_type": "code",
      "source": [
        "def trapezoidal_integration(f, a, b, n):\n",
        "# f: функція (lambda)\n",
        "# a, b: межі інтегрування\n",
        "# n: кількість трапецій (кроків)\n",
        "    h = (b - a) / n\n",
        "    result_tra = (f(a) + f(b))/2\n",
        "    for i in range(1, n):\n",
        "        x_i = a + i * h\n",
        "        result_tra += f(x_i)\n",
        "    return result_tra * h\n",
        "\n",
        "\n",
        "f = lambda x: 2*(((4/(1.2*sqrt(2*pi)))*exp((-1/2)*((x-11)/1.2)**2))+(7/(2.4*sqrt(2*pi)))*exp(-1/2*((x-15)/2.4)**2))\n",
        "a = 9\n",
        "b = 18\n",
        "n = 10000\n",
        "\n",
        "approx_tra = trapezoidal_integration(f, a, b, n)\n",
        "approx_tra"
      ],
      "metadata": {
        "id": "uBQOp0xwjT2H",
        "colab": {
          "base_uri": "https://localhost:8080/",
          "height": 60
        },
        "outputId": "7fcd461b-668f-4089-9fc3-a9fe5d6689f2"
      },
      "execution_count": 114,
      "outputs": [
        {
          "output_type": "execute_result",
          "data": {
            "text/plain": [
              "25.131010038835*sqrt(2)/sqrt(pi)"
            ],
            "text/latex": "$\\displaystyle \\frac{25.131010038835 \\sqrt{2}}{\\sqrt{\\pi}}$"
          },
          "metadata": {},
          "execution_count": 114
        }
      ]
    },
    {
      "cell_type": "markdown",
      "source": [
        "# ***Завдання 4***"
      ],
      "metadata": {
        "id": "C1WZyev1jRbG"
      }
    },
    {
      "cell_type": "code",
      "source": [
        "def simpson_integration(f, a, b, n):\n",
        "# f: функція (lambda)\n",
        "# a, b: межі інтегрування\n",
        "# n: кількість інтервалів (має бути парним)\n",
        "    if n % 2 != 0:\n",
        "        raise ValueError(\"Кількість інтервалів (n) має бути парним числом для методу Сімпсона.\")\n",
        "\n",
        "    h = (b - a) / n\n",
        "    result_sim = f(a) + f(b)\n",
        "    for i in range(1, n, 2):\n",
        "        x_i = a + i * h\n",
        "        result_sim += 4 * f(x_i)\n",
        "    for i in range(2, n - 1, 2):\n",
        "        x_i = a + i * h\n",
        "        result_sim += 2 * f(x_i)\n",
        "    return result_sim * h / 3\n",
        "\n",
        "\n",
        "f = lambda x: 2*(((4/(1.2*sqrt(2*pi)))*exp((-1/2)*((x-11)/1.2)**2))+(7/(2.4*sqrt(2*pi)))*exp(-1/2*((x-15)/2.4)**2))\n",
        "a = 9\n",
        "b = 18\n",
        "n = 10000\n",
        "\n",
        "approx_sim = simpson_integration(f, a, b, n)\n",
        "approx_sim"
      ],
      "metadata": {
        "id": "lneEel4VjUWf",
        "colab": {
          "base_uri": "https://localhost:8080/",
          "height": 60
        },
        "outputId": "1afbceaf-bf96-4140-db88-0dfbb2037c03"
      },
      "execution_count": 115,
      "outputs": [
        {
          "output_type": "execute_result",
          "data": {
            "text/plain": [
              "25.131010172714*sqrt(2)/sqrt(pi)"
            ],
            "text/latex": "$\\displaystyle \\frac{25.131010172714 \\sqrt{2}}{\\sqrt{\\pi}}$"
          },
          "metadata": {},
          "execution_count": 115
        }
      ]
    },
    {
      "cell_type": "markdown",
      "source": [
        "# ***Завдання 5***"
      ],
      "metadata": {
        "id": "t-_0Y3rOytqs"
      }
    },
    {
      "cell_type": "code",
      "source": [
        "def integrand(x):\n",
        "    return 2*(((4/(1.2*sqrt(2*pi)))*exp((-1/2)*((x-11)/1.2)**2))+(7/(2.4*sqrt(2*pi)))*exp(-1/2*((x-15)/2.4)**2))\n",
        "\n",
        "result_quad, error = integrate_scipy.quad(integrand, 9, 18)\n",
        "print(f\"Result: {result_quad}, Error: {error}\")"
      ],
      "metadata": {
        "colab": {
          "base_uri": "https://localhost:8080/"
        },
        "id": "fya4phWDyvzE",
        "outputId": "9988666e-5f5e-4cb4-f0f3-2c557f72cb53"
      },
      "execution_count": 112,
      "outputs": [
        {
          "output_type": "stream",
          "name": "stdout",
          "text": [
            "Result: 20.051645014188296, Error: 1.2672390114804206e-11\n"
          ]
        }
      ]
    }
  ]
}