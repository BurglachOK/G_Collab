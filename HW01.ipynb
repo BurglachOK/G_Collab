{
  "nbformat": 4,
  "nbformat_minor": 0,
  "metadata": {
    "colab": {
      "provenance": [],
      "collapsed_sections": [
        "mbmam7xBKWRj"
      ]
    },
    "kernelspec": {
      "name": "python3",
      "display_name": "Python 3"
    },
    "language_info": {
      "name": "python"
    }
  },
  "cells": [
    {
      "cell_type": "markdown",
      "source": [
        "# Нагадування по Markdown"
      ],
      "metadata": {
        "id": "mbmam7xBKWRj"
      }
    },
    {
      "cell_type": "markdown",
      "source": [
        "Надаємо невелике нагадування записів в\n",
        "[Markdown](https://colab.research.google.com/notebooks/markdown_guide.ipynb) (LaTeX):\n",
        "\n",
        "Markdown | Preview\n",
        "--- | ---\n",
        "`**bold text**` | **bold text**\n",
        " \\\\$\\frac{x}{y}\\\\$ | $\\frac{x}{y}$\n",
        " \\\\$p^{x}_{y}\\\\$ | $p^{x}_{y}$\n",
        "\\\\$x \\cdot y\\\\$ | $x \\cdot y$\n",
        "\\\\$\\sqrt{x}\\\\$ | $\\sqrt{x}$\n",
        "\\\\$\\pi\\\\$ | $\\pi$\n",
        "\\\\$\\approx\\\\$ | $\\approx$\n",
        "\n",
        "І ще декілька прикладів:\n",
        "\n",
        "```markdown\n",
        "$y=x^2$\n",
        "\n",
        "$e^{i\\pi} + 1 = 0$\n",
        "\n",
        "$e^x=\\sum_{i=0}^\\infty \\frac{1}{i!}x^i$\n",
        "\n",
        "$\\frac{n!}{k!(n-k)!} = {n \\choose k}$\n",
        "\n",
        "$A_{m,n} =\n",
        " \\begin{pmatrix}\n",
        "  a_{1,1} & a_{1,2} & \\cdots & a_{1,n} \\\\\n",
        "  a_{2,1} & a_{2,2} & \\cdots & a_{2,n} \\\\\n",
        "  \\vdots  & \\vdots  & \\ddots & \\vdots  \\\\\n",
        "  a_{m,1} & a_{m,2} & \\cdots & a_{m,n}\n",
        " \\end{pmatrix}$\n",
        "\n",
        " $$\n",
        " I =\n",
        " \\left (\\begin{array}{cc}\n",
        " 1 & 0\\\\\n",
        " 0 & 1\n",
        " \\end{array}\\right)\n",
        " $$\n",
        "```\n",
        "\n",
        "$y=x^2$\n",
        "\n",
        "$e^{i\\pi} + 1 = 0$\n",
        "\n",
        "$e^x=\\sum_{i=0}^\\infty \\frac{1}{i!}x^i$\n",
        "\n",
        "$\\frac{n!}{k!(n-k)!} = {n \\choose k}$\n",
        "\n",
        "$A_{m,n} =\n",
        " \\begin{pmatrix}\n",
        "  a_{1,1} & a_{1,2} & \\cdots & a_{1,n} \\\\\n",
        "  a_{2,1} & a_{2,2} & \\cdots & a_{2,n} \\\\\n",
        "  \\vdots  & \\vdots  & \\ddots & \\vdots  \\\\\n",
        "  a_{m,1} & a_{m,2} & \\cdots & a_{m,n}\n",
        " \\end{pmatrix}$\n",
        "\n",
        "$I =\n",
        "\\left (\\begin{array}{cc}\n",
        "1 & 0\\\\\n",
        "0 & 1\n",
        "\\end{array}\\right)$\n",
        " ---"
      ],
      "metadata": {
        "id": "WKbf0DcrKYHi"
      }
    },
    {
      "cell_type": "markdown",
      "source": [
        "# Завдання 1.\n",
        "В шаблоні наведені числові вектори $\\overline{a}$ та $\\overline{b}$. Порахуй наступне:\n",
        "- сума $\\overline{a}$ та $\\overline{b}$\n",
        "- різниця $\\overline{a}$ та $\\overline{b}$\n",
        "- сума $\\overline{a}$ та $\\overline{b}^T$. Поясни отриманий результат.\n",
        "- матричний добуток (dot product) $\\overline{a}$ та $\\overline{b}^T$.\n",
        "- матричний добуток (dot product) $\\overline{a}$ та $\\overline{b}$. Поясни отриманий результат.\n",
        "- добуток Адамара (Hadamard product) $\\overline{a}$ та $\\overline{b}$. Поясни отриманий результат.\n",
        "- ділення $\\overline{a}$ та $\\overline{b}$. Поясни отриманий результат.\n",
        "- ділення $\\overline{a}$ та $\\overline{b}^T$. Поясни отриманий результат."
      ],
      "metadata": {
        "id": "AQsl6FeF0Sq3"
      }
    },
    {
      "cell_type": "code",
      "source": [
        "import numpy as np\n",
        "# Код оголошення векторів не можна змінювати\n",
        "a = np.array([[1, 2, 3, 4, 5]])\n",
        "b = np.array([[1/2, 1, 2, 3, 4]])"
      ],
      "metadata": {
        "id": "x_pAAV5I0Rqg"
      },
      "execution_count": null,
      "outputs": []
    },
    {
      "cell_type": "code",
      "source": [
        "res = a + b\n",
        "res"
      ],
      "metadata": {
        "id": "-TcDgKRB0n-s",
        "colab": {
          "base_uri": "https://localhost:8080/"
        },
        "outputId": "d7d27821-9b81-4f61-91ba-06bee00401dd"
      },
      "execution_count": null,
      "outputs": [
        {
          "output_type": "execute_result",
          "data": {
            "text/plain": [
              "array([[1.5, 3. , 5. , 7. , 9. ]])"
            ]
          },
          "metadata": {},
          "execution_count": 4
        }
      ]
    },
    {
      "cell_type": "code",
      "source": [
        "res = a - b\n",
        "res"
      ],
      "metadata": {
        "id": "CcIk7MVQ1xgq",
        "colab": {
          "base_uri": "https://localhost:8080/"
        },
        "outputId": "81c2452d-2274-45c1-e492-fb2ad2e17064"
      },
      "execution_count": null,
      "outputs": [
        {
          "output_type": "execute_result",
          "data": {
            "text/plain": [
              "array([[0.5, 1. , 1. , 1. , 1. ]])"
            ]
          },
          "metadata": {},
          "execution_count": 5
        }
      ]
    },
    {
      "cell_type": "code",
      "source": [
        "# Пояснення: Кожний раядочок по вертикалі це матриця а + відповідне за порядком число з матриці б\n",
        "res = a + b.T\n",
        "res"
      ],
      "metadata": {
        "id": "exb6q60N0uFv",
        "colab": {
          "base_uri": "https://localhost:8080/"
        },
        "outputId": "876bb5de-ab45-40d7-9502-e125b9d316c4"
      },
      "execution_count": null,
      "outputs": [
        {
          "output_type": "execute_result",
          "data": {
            "text/plain": [
              "array([[1.5, 2.5, 3.5, 4.5, 5.5],\n",
              "       [2. , 3. , 4. , 5. , 6. ],\n",
              "       [3. , 4. , 5. , 6. , 7. ],\n",
              "       [4. , 5. , 6. , 7. , 8. ],\n",
              "       [5. , 6. , 7. , 8. , 9. ]])"
            ]
          },
          "metadata": {},
          "execution_count": 14
        }
      ]
    },
    {
      "cell_type": "code",
      "source": [
        "res = a.dot(b.T)\n",
        "res"
      ],
      "metadata": {
        "id": "oZB7Kx5_1c29",
        "colab": {
          "base_uri": "https://localhost:8080/"
        },
        "outputId": "76092de7-b437-40e2-85b6-91d5a97d123b"
      },
      "execution_count": null,
      "outputs": [
        {
          "output_type": "execute_result",
          "data": {
            "text/plain": [
              "array([[40.5]])"
            ]
          },
          "metadata": {},
          "execution_count": 15
        }
      ]
    },
    {
      "cell_type": "code",
      "source": [
        "# Пояснення: Вони обидва горизонтальні, але мають бути 1 горизонтальний 1 вертикальний\n",
        "res = a.dot(b)\n",
        "res"
      ],
      "metadata": {
        "id": "PbRyd3630xud",
        "colab": {
          "base_uri": "https://localhost:8080/",
          "height": 176
        },
        "outputId": "76bf6ee1-cd2f-481d-d53e-1360fcb836e2"
      },
      "execution_count": null,
      "outputs": [
        {
          "output_type": "error",
          "ename": "ValueError",
          "evalue": "shapes (1,5) and (1,5) not aligned: 5 (dim 1) != 1 (dim 0)",
          "traceback": [
            "\u001b[0;31m---------------------------------------------------------------------------\u001b[0m",
            "\u001b[0;31mValueError\u001b[0m                                Traceback (most recent call last)",
            "\u001b[0;32m<ipython-input-13-98dd54fc1934>\u001b[0m in \u001b[0;36m<cell line: 0>\u001b[0;34m()\u001b[0m\n\u001b[1;32m      1\u001b[0m \u001b[0;31m# Пояснення: Кожне число в а множиться на відповідне число в б\u001b[0m\u001b[0;34m\u001b[0m\u001b[0;34m\u001b[0m\u001b[0m\n\u001b[0;32m----> 2\u001b[0;31m \u001b[0mres\u001b[0m \u001b[0;34m=\u001b[0m \u001b[0ma\u001b[0m\u001b[0;34m.\u001b[0m\u001b[0mdot\u001b[0m\u001b[0;34m(\u001b[0m\u001b[0mb\u001b[0m\u001b[0;34m)\u001b[0m\u001b[0;34m\u001b[0m\u001b[0;34m\u001b[0m\u001b[0m\n\u001b[0m\u001b[1;32m      3\u001b[0m \u001b[0mres\u001b[0m\u001b[0;34m\u001b[0m\u001b[0;34m\u001b[0m\u001b[0m\n",
            "\u001b[0;31mValueError\u001b[0m: shapes (1,5) and (1,5) not aligned: 5 (dim 1) != 1 (dim 0)"
          ]
        }
      ]
    },
    {
      "cell_type": "code",
      "source": [
        "# Пояснення: Перемноження кожного елементу на однаковому місці\n",
        "res = np.multiply(a,b)\n",
        "res"
      ],
      "metadata": {
        "id": "QPHTXr83ly7o",
        "colab": {
          "base_uri": "https://localhost:8080/"
        },
        "outputId": "e41ffa31-b734-4a24-e498-d4fb672c5196"
      },
      "execution_count": null,
      "outputs": [
        {
          "output_type": "execute_result",
          "data": {
            "text/plain": [
              "array([[ 0.5,  2. ,  6. , 12. , 20. ]])"
            ]
          },
          "metadata": {},
          "execution_count": 17
        }
      ]
    },
    {
      "cell_type": "code",
      "source": [
        "# Пояснення: Ділення кожного елементу на однаковому місці\n",
        "res = a / b\n",
        "res"
      ],
      "metadata": {
        "id": "9mAIEbkQ1pJH",
        "colab": {
          "base_uri": "https://localhost:8080/"
        },
        "outputId": "8f285951-1c3e-449c-d03d-f1e8800cc15d"
      },
      "execution_count": null,
      "outputs": [
        {
          "output_type": "execute_result",
          "data": {
            "text/plain": [
              "array([[2.        , 2.        , 1.5       , 1.33333333, 1.25      ]])"
            ]
          },
          "metadata": {},
          "execution_count": 18
        }
      ]
    },
    {
      "cell_type": "code",
      "source": [
        "# Пояснення: Створення матриці, де кожний рядок це а поділене на відповідне по порядку число з б\n",
        "res = a / b.T\n",
        "res"
      ],
      "metadata": {
        "id": "pozfWRdc1qF9",
        "colab": {
          "base_uri": "https://localhost:8080/"
        },
        "outputId": "02fe0252-c4a6-4740-cc5b-1ecb990b593e"
      },
      "execution_count": null,
      "outputs": [
        {
          "output_type": "execute_result",
          "data": {
            "text/plain": [
              "array([[ 2.        ,  4.        ,  6.        ,  8.        , 10.        ],\n",
              "       [ 1.        ,  2.        ,  3.        ,  4.        ,  5.        ],\n",
              "       [ 0.5       ,  1.        ,  1.5       ,  2.        ,  2.5       ],\n",
              "       [ 0.33333333,  0.66666667,  1.        ,  1.33333333,  1.66666667],\n",
              "       [ 0.25      ,  0.5       ,  0.75      ,  1.        ,  1.25      ]])"
            ]
          },
          "metadata": {},
          "execution_count": 19
        }
      ]
    },
    {
      "cell_type": "markdown",
      "source": [
        "# Завдання 2\n",
        "В цьому завданні ти навчишся перетворювати вектори за допомогою афінних перетворень.  \n",
        "Дано вектор:\n",
        "$$\n",
        "x =\n",
        "\\left(\\begin{array}{cc}\n",
        "2\\\\\n",
        "1\n",
        "\\end{array}\\right)\n",
        "$$\n",
        "\n",
        "\n",
        "Виконай аналітично наступні завдання задавши матрицю перетворення та застосуй її до вектора $x$:\n",
        "\n",
        "1. Зменши вектор $x$ в 2 рази по вісі $OX$ та збільш в 3 рази по вісі $OY$.\n",
        "2. Відобрази вектор $x$ відносно початку координат.\n",
        "3. Перенеси вектор $x$ на -3 по вісі $OX$ та на 1 по вісі $OY$.\n",
        "4. Змісти вектор $x$ на 60° по вісі $OY$.\n",
        "5. Поверни вектор $x$ на 30°.\n",
        "6. Об'єднай перетворення з кроків 1, 2, 4, 5 в одну матрицю та застосуй її до вектору $x$."
      ],
      "metadata": {
        "id": "W-FFJ2oK0TTF"
      }
    },
    {
      "cell_type": "markdown",
      "source": [],
      "metadata": {
        "id": "coRcpu8kgMqh"
      }
    },
    {
      "cell_type": "markdown",
      "source": [
        "#### 2.1 Зменши вектор  $x$  в 2 рази по вісі  OX  та збільш в 3 рази по вісі  OY ."
      ],
      "metadata": {
        "id": "6G4BWKMB33NV"
      }
    },
    {
      "cell_type": "markdown",
      "source": [
        "$$\n",
        "M_1 =\n",
        "\\left (\\begin{array}{cc}\n",
        "0.5 & 0\\\\\n",
        "0 & 3\\\\\n",
        "\\end{array}\\right)\n",
        "$$\n",
        "\n",
        "$$\n",
        "M_1x =\n",
        "\\left(\\begin{array}{cc}\n",
        "0.5 & 0\\\\\n",
        "0 & 3\n",
        "\\end{array}\\right)\n",
        "\\left (\\begin{array}{cc}\n",
        "2\\\\\n",
        "1\n",
        "\\end{array}\\right)=\n",
        "\\left(\\begin{array}{cc}\n",
        "0.5 \\cdot 2 + 0 \\cdot 1\\\\\n",
        "0 \\cdot 2 + 3 \\cdot 1\n",
        "\\end{array}\\right)=\n",
        "\\left(\\begin{array}{cc}\n",
        "1\\\\\n",
        "3\n",
        "\\end{array}\\right)\n",
        "$$"
      ],
      "metadata": {
        "id": "_BvcoZCyg8nk"
      }
    },
    {
      "cell_type": "markdown",
      "source": [
        "#### 2.2 Відобрази вектор $x$ відносно початку координат."
      ],
      "metadata": {
        "id": "Rlhpc8-24M9k"
      }
    },
    {
      "cell_type": "markdown",
      "source": [
        "$$\n",
        "M_2 =\n",
        "\\left(\\begin{array}{cc}\n",
        "-1 & 0\\\\\n",
        "0 & -1\n",
        "\\end{array}\\right)\n",
        "\\\\\n",
        "M_2x =\n",
        "\\left(\\begin{array}{cc}\n",
        "-1 & 0\\\\\n",
        "0 & -1\n",
        "\\end{array}\\right)\n",
        "\\left (\\begin{array}{cc}\n",
        "2\\\\\n",
        "1\n",
        "\\end{array}\\right)=\n",
        "\\left(\\begin{array}{cc}\n",
        "-1 \\cdot 2 + 0 \\cdot 1\\\\\n",
        "0 \\cdot 2 + -1 \\cdot 1\n",
        "\\end{array}\\right)=\n",
        "\\left(\\begin{array}{cc}\n",
        "-2\\\\\n",
        "-1\n",
        "\\end{array}\\right)\n",
        "$$"
      ],
      "metadata": {
        "id": "35Ld0CHYgsXY"
      }
    },
    {
      "cell_type": "markdown",
      "source": [
        "#### 2.3 Перенеси вектор $x$, задавши відповідну матрицю і помноживши на неї,  на -3 по вісі $OX$ та на 1 по вісі $OY$."
      ],
      "metadata": {
        "id": "V5AiNUx14MvZ"
      }
    },
    {
      "cell_type": "markdown",
      "source": [
        "$$\n",
        "M_3 =\n",
        "\\left(\\begin{array}{cc}\n",
        "-3 & 0\\\\\n",
        "0 & 1\n",
        "\\end{array}\\right)\n",
        "\\\\\n",
        "M_3x =\n",
        "\\left(\\begin{array}{cc}\n",
        "-3 & 0\\\\\n",
        "0 & 1\n",
        "\\end{array}\\right)\n",
        "\\left (\\begin{array}{cc}\n",
        "2\\\\\n",
        "1\n",
        "\\end{array}\\right)=\n",
        "\\left(\\begin{array}{cc}\n",
        "-3 \\cdot 2 + 0 \\cdot 1\\\\\n",
        "0 \\cdot 2 + 1 \\cdot 1\n",
        "\\end{array}\\right)=\n",
        "\\left(\\begin{array}{cc}\n",
        "-6\\\\\n",
        "1\n",
        "\\end{array}\\right)\n",
        "$$"
      ],
      "metadata": {
        "id": "qtzBmsNcgpQA"
      }
    },
    {
      "cell_type": "markdown",
      "source": [
        "#### 2.4 Змісти(shear) вектор $x$ на 60° по вісі $OY$.\n"
      ],
      "metadata": {
        "id": "VfjTQ4li9Neq"
      }
    },
    {
      "cell_type": "markdown",
      "source": [
        "$$\n",
        "M_4 =\n",
        "\\left(\\begin{array}{cc}\n",
        "1 & 0\\\\\n",
        "-tg(60°) & 1\n",
        "\\end{array}\\right)\n",
        "\\\\\n",
        "M_4x =\n",
        "\\left(\\begin{array}{cc}\n",
        "1 & 0\\\\\n",
        "-\\sqrt{3} & 1\n",
        "\\end{array}\\right)\n",
        "\\left (\\begin{array}{cc}\n",
        "2\\\\\n",
        "1\n",
        "\\end{array}\\right)=\n",
        "\\left(\\begin{array}{cc}\n",
        "1 \\cdot 2 + 0 \\cdot 1\\\\\n",
        "-\\sqrt{3} \\cdot 2 + 1 \\cdot 1\n",
        "\\end{array}\\right)=\n",
        "\\left(\\begin{array}{cc}\n",
        "2\\\\\n",
        "-2\\sqrt{3}+1\n",
        "\\end{array}\\right)\n",
        "$$"
      ],
      "metadata": {
        "id": "1-0_aTZiglze"
      }
    },
    {
      "cell_type": "markdown",
      "source": [
        "#### 2.5 Поверни вектор $x$ на 30°."
      ],
      "metadata": {
        "id": "F5dbVgGr9RCD"
      }
    },
    {
      "cell_type": "markdown",
      "source": [
        "$$\n",
        "M_5 =\n",
        "\\left (\\begin{array}{cc}\n",
        "cos(30°) & -sin(30°)\\\\\n",
        "sin(30°) & cos(30°)\\\\\n",
        "\\end{array}\\right)\n",
        "$$\n",
        "\n",
        "$$\n",
        "M_5x =\n",
        "\\left(\\begin{array}{cc}\n",
        "\\frac{\\sqrt{3}}{2} & -\\frac{1}{2}\\\\\n",
        "\\frac{1}{2} & \\frac{\\sqrt{3}}{2}\n",
        "\\end{array}\\right)\n",
        "\\left (\\begin{array}{cc}\n",
        "2\\\\\n",
        "1\n",
        "\\end{array}\\right)=\n",
        "\\left(\\begin{array}{cc}\n",
        "\\frac{\\sqrt{3}}{2} \\cdot 2 + -\\frac{1}{2} \\cdot 1\\\\\n",
        "\\frac{1}{2} \\cdot 2 + \\frac{\\sqrt{3}}{2} \\cdot 1\n",
        "\\end{array}\\right)=\n",
        "\\left(\\begin{array}{cc}\n",
        "\\sqrt{3} + (-0.5)\\\\\n",
        "1 + \\frac{\\sqrt{3}}{2}\n",
        "\\end{array}\\right)\n",
        "$$"
      ],
      "metadata": {
        "id": "ABCk4cPhg2Zp"
      }
    },
    {
      "cell_type": "markdown",
      "source": [
        "#### 2.6 Об'єднай перетворення з кроків 1, 2, 4, 5 в одну матрицю та застосуй її до вектору $x$."
      ],
      "metadata": {
        "id": "nXJQVzee9RTp"
      }
    },
    {
      "cell_type": "markdown",
      "source": [
        "$$\n",
        "M_6 = M_5 \\cdot M_4 \\cdot M_2 \\cdot M_1 =\n",
        "\\left (\\begin{array}{cc}\n",
        "cos(30°) & -sin(30°)\\\\\n",
        "sin(30°) & cos(30°)\\\\\n",
        "\\end{array}\\right) *\n",
        "\\left(\\begin{array}{cc}\n",
        "1 & 0\\\\\n",
        "-tg(60°) & 1\n",
        "\\end{array}\\right) *\n",
        "\\left(\\begin{array}{cc}\n",
        "-1 & 0\\\\\n",
        "0 & -1\n",
        "\\end{array}\\right) *\n",
        "\\left (\\begin{array}{cc}\n",
        "0.5 & 0\\\\\n",
        "0 & 3\\\\\n",
        "\\end{array}\\right)\n",
        "$$"
      ],
      "metadata": {
        "id": "NzEYWaaZHUGm"
      }
    },
    {
      "cell_type": "markdown",
      "source": [
        "$$\n",
        "M_6 =\n",
        "\\left (\\begin{array}{cc}\n",
        "-0.5\\sqrt{3} & \\frac{3}{2}\\\\\n",
        "0.5 & -\\frac{3\\sqrt{3}}{2}\n",
        "\\end{array}\\right)\n",
        "\\\\\n",
        "M_6x =\n",
        "\\left (\\begin{array}{cc}\n",
        "-0.5\\sqrt{3} & \\frac{3}{2}\\\\\n",
        "0.5 & -\\frac{3\\sqrt{3}}{2}\n",
        "\\end{array}\\right) *\n",
        "\\left (\\begin{array}{cc}\n",
        "2\\\\\n",
        "1\n",
        "\\end{array}\\right) =\n",
        "\\left (\\begin{array}{cc}\n",
        "-\\sqrt{3} + \\frac{3}{2}\\\\\n",
        "1 + (-\\frac{3\\sqrt{3}}{2})\n",
        "\\end{array}\\right)\n",
        "$$"
      ],
      "metadata": {
        "id": "483K8PxWY0Na"
      }
    },
    {
      "cell_type": "code",
      "source": [],
      "metadata": {
        "id": "krE4_MLkCchf"
      },
      "execution_count": null,
      "outputs": []
    },
    {
      "cell_type": "markdown",
      "source": [
        "# Завдання 2 (Альтернативне)"
      ],
      "metadata": {
        "id": "4Hskh6fFb89N"
      }
    },
    {
      "cell_type": "code",
      "source": [
        "import cv2 as cv\n",
        "import urllib\n",
        "import numpy as np\n",
        "from google.colab.patches import cv2_imshow as cv_imshow\n",
        "\n",
        "# Read an image\n",
        "def read_image_by_url(url):\n",
        "    req = urllib.request.urlopen(url)\n",
        "    arr = np.asarray(bytearray(req.read()), dtype=np.uint8)\n",
        "    img = cv.imdecode(arr, -1)\n",
        "    return img\n",
        "\n",
        "url = ''\n",
        "\n",
        "img = read_image_by_url(url)"
      ],
      "metadata": {
        "id": "T9X-m9XvdlPK"
      },
      "execution_count": null,
      "outputs": []
    },
    {
      "cell_type": "code",
      "source": [
        "cv_imshow(img)"
      ],
      "metadata": {
        "id": "3oDsfgd25Rx7"
      },
      "execution_count": null,
      "outputs": []
    },
    {
      "cell_type": "code",
      "source": [],
      "metadata": {
        "id": "XmpNfQZpira8"
      },
      "execution_count": null,
      "outputs": []
    }
  ]
}